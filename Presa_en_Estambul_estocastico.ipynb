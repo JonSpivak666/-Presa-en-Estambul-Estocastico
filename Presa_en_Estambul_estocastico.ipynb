{
  "nbformat": 4,
  "nbformat_minor": 0,
  "metadata": {
    "colab": {
      "provenance": [],
      "include_colab_link": true
    },
    "kernelspec": {
      "name": "python3",
      "display_name": "Python 3"
    },
    "language_info": {
      "name": "python"
    }
  },
  "cells": [
    {
      "cell_type": "markdown",
      "metadata": {
        "id": "view-in-github",
        "colab_type": "text"
      },
      "source": [
        "<a href=\"https://colab.research.google.com/github/JonSpivak666/ARIMAX_Hidrulica_Estocastico/blob/main/Presa_en_Estambul_estocastico.ipynb\" target=\"_parent\"><img src=\"https://colab.research.google.com/assets/colab-badge.svg\" alt=\"Open In Colab\"/></a>"
      ]
    },
    {
      "cell_type": "markdown",
      "source": [
        "# Marco Teórico"
      ],
      "metadata": {
        "id": "L3mnEaeAdzRp"
      }
    },
    {
      "cell_type": "markdown",
      "source": [
        "## Introducción a la Hidráulica.\n",
        "\n"
      ],
      "metadata": {
        "id": "2J45N9XSVnZH"
      }
    },
    {
      "cell_type": "markdown",
      "source": [
        "La hidráulica, como subdisciplina de la ingeniería civil y ambiental, se centra en el estudio y manejo del agua en movimiento y en reposo. Su principal objetivo es la comprensión y aplicación de los principios físicos del agua para diseñar infraestructuras que permitan un manejo eficiente y sostenible de este vital recurso. Las aplicaciones de la hidráulica son extensas y abarcan desde el diseño de sistemas de riego y presas hasta la gestión de recursos hídricos urbanos y el control de inundaciones.\n",
        "\n",
        "**Principios Físicos:**\n",
        "La hidráulica se basa en las leyes fundamentales de la mecánica de fluidos, incluyendo la ecuación de continuidad, que asegura la conservación de la masa, y la ecuación de Bernoulli, que representa la conservación de la energía en un flujo incompresible y sin fricción:\n",
        "\n",
        "$$\n",
        "\\frac{\\partial \\rho}{\\partial t} + \\nabla \\cdot (\\rho \\mathbf{u}) = 0,\n",
        "$$\n",
        "$$\n",
        "p + \\frac{1}{2} \\rho v^2 + \\rho gh = \\text{constante},\n",
        "$$\n",
        "\n",
        "donde \\( \\rho \\) es la densidad del fluido, \\( \\mathbf{u} \\) el vector velocidad, \\( p \\) la presión, \\( v \\) la velocidad escalar, \\( g \\) la aceleración debida a la gravedad, y \\( h \\) la altura desde una referencia.\n",
        "\n",
        "**Aplicaciones en Ingeniería:**\n",
        "En el ámbito de la ingeniería civil, la hidráulica permite diseñar canales, presas y otras estructuras que optimizan el uso y control del agua. Estas estructuras deben ser diseñadas considerando no solo la eficiencia hidráulica sino también aspectos como la seguridad, la sostenibilidad y el impacto ambiental. Por ejemplo, en el diseño de presas, la hidráulica juega un papel crucial en el cálculo de las cargas de agua, las fuerzas hidrostáticas, y el análisis del flujo a través de compuertas y vertederos.\n",
        "\n",
        "**Desafíos y Consideraciones Futuras:**\n",
        "El campo de la hidráulica enfrenta desafíos crecientes debido a los cambios climáticos, la urbanización y la necesidad de conservar los recursos hídricos. La adaptación de las estructuras hidráulicas existentes y el diseño de nuevas infraestructuras requieren un enfoque integrado que considere tanto modelos hidráulicos tradicionales como avanzados análisis de riesgo y sostenibilidad. La incorporación de modelos estocásticos y herramientas de simulación avanzadas permite a los ingenieros prever y mitigar los efectos de eventos extremos y variabilidad en los patrones hidrológicos.\n",
        "\n",
        "\n",
        "\n"
      ],
      "metadata": {
        "id": "dgy734lIVyvg"
      }
    },
    {
      "cell_type": "markdown",
      "source": [
        "## Principios de Mecánica de Fluidos"
      ],
      "metadata": {
        "id": "a5CVIWj2WLqu"
      }
    },
    {
      "cell_type": "markdown",
      "source": [
        "La mecánica de fluidos es una rama de la física y la ingeniería que estudia el comportamiento de los fluidos (líquidos, gases y plasmas) y las fuerzas que actúan sobre ellos. Es fundamental para la hidráulica, ya que proporciona las herramientas teóricas para el diseño y análisis de sistemas que involucran fluidos en movimiento y en reposo.\n",
        "\n",
        "**Ecuaciones Fundamentales:**\n",
        "Las ecuaciones fundamentales que gobiernan la mecánica de fluidos incluyen:\n",
        "\n",
        "1. **Ecuación de Continuidad (Conservación de Masa):**\n",
        "   Esta ecuación asegura que la masa de un fluido se conserva en el flujo:\n",
        "   $$\n",
        "   \\frac{\\partial \\rho}{\\partial t} + \\nabla \\cdot (\\rho \\mathbf{u}) = 0,\n",
        "   $$\n",
        "   donde \\( \\rho \\) es la densidad del fluido y \\( \\mathbf{u} \\) es el campo de velocidades.\n",
        "\n",
        "2. **Ecuaciones de Navier-Stokes (Conservación del Momento):**\n",
        "   Estas ecuaciones describen el movimiento de fluidos viscosos y son cruciales para entender el flujo en canales, alrededor de estructuras y en tuberías:\n",
        "   $$\n",
        "   \\rho \\left( \\frac{\\partial \\mathbf{u}}{\\partial t} + \\mathbf{u} \\cdot \\nabla \\mathbf{u} \\right) = -\\nabla p + \\mu \\nabla^2 \\mathbf{u} + \\rho \\mathbf{g},\n",
        "   $$\n",
        "   donde \\( p \\) es la presión, \\( \\mu \\) es la viscosidad dinámica, y \\( \\mathbf{g} \\) es la aceleración debida a la gravedad.\n",
        "\n",
        "3. **Ecuación de Energía:**\n",
        "   Representa la conservación de energía para un fluido en movimiento, integrando efectos térmicos y mecánicos:\n",
        "   $$\n",
        "   \\frac{\\partial}{\\partial t} \\left( \\rho e \\right) + \\nabla \\cdot \\left( \\rho e \\mathbf{u} \\right) = \\nabla \\cdot \\left( k \\nabla T \\right) + \\Phi,\n",
        "   $$\n",
        "   donde \\( e \\) es la energía interna por unidad de masa, \\( T \\) es la temperatura, \\( k \\) es la conductividad térmica, y \\( \\Phi \\) representa la generación de calor viscoso.\n",
        "\n",
        "**Aplicaciones Prácticas:**\n",
        "En ingeniería hidráulica, estas ecuaciones se aplican para diseñar sistemas que maximicen la eficiencia y seguridad. Por ejemplo, las ecuaciones de Navier-Stokes se utilizan para simular el flujo en presas y alrededor de pilotes de puentes, evaluando el impacto de las fuerzas hidráulicas sobre estas estructuras. Además, la ecuación de energía se aplica en problemas donde el transporte de calor es crucial, como en sistemas de refrigeración y calefacción.\n",
        "\n",
        "**Desafíos Computacionales:**\n",
        "Dada la complejidad de las ecuaciones y la necesidad de soluciones precisas, el análisis numérico y la computación son herramientas indispensables en la mecánica de fluidos moderna. El uso de software de dinámica de fluidos computacional (CFD) permite a los ingenieros modelar escenarios complejos y realizar ajustes antes de la implementación física, ahorrando tiempo y recursos.\n",
        "\n",
        "Este enfoque riguroso y detallado en la mecánica de fluidos no solo fundamenta el diseño y análisis de proyectos hidráulicos, sino que también facilita la integración de consideraciones ambientales y de seguridad en el desarrollo de infraestructuras sostenibles.\n",
        "\n"
      ],
      "metadata": {
        "id": "Kc4Qw1iJWR_5"
      }
    },
    {
      "cell_type": "markdown",
      "source": [
        "## Fundamentos de Procesos Estocásticos"
      ],
      "metadata": {
        "id": "W7R3nFFeV5G_"
      }
    },
    {
      "cell_type": "markdown",
      "source": [
        "\n",
        "Los procesos estocásticos constituyen un marco fundamental para el análisis de fenómenos que exhiben variabilidad aleatoria, siendo esenciales en disciplinas como la hidráulica, donde la incertidumbre en las entradas ambientales y operativas es significativa.\n",
        "\n",
        "**Definición y Conceptos Básicos:**\n",
        "Un proceso estocástico es una familia de variables aleatorias \\( \\{X_t\\}_{t \\in T} \\) indexadas por el tiempo \\( t \\), que se utiliza para modelar la evolución de sistemas que están sujetos a influencias aleatorias. Estos procesos se describen a menudo en términos de sus funciones de media y covarianza, así como por sus distribuciones de probabilidad.\n",
        "\n",
        "**Ejemplos de Procesos Estocásticos en Hidráulica:**\n",
        "1. **Cadenas de Markov:**\n",
        "   Ideal para modelar la evolución del estado de sistemas hidráulicos donde el futuro depende solo del estado presente y no de cómo se llegó a él. Se utilizan ampliamente en modelado de lluvias y caudales de ríos.\n",
        "   $$\n",
        "   \\mathbb{P}(X_{n+1} = x | X_n = x_n, X_{n-1} = x_{n-1}, \\dots) = \\mathbb{P}(X_{n+1} = x | X_n = x_n)\n",
        "   $$\n",
        "\n",
        "2. **Procesos de Poisson:**\n",
        "   Utilizados para modelar la ocurrencia de eventos discretos y aleatorios como precipitaciones extremas o rupturas de diques, cuya ocurrencia se modela como eventos en un continuo temporal.\n",
        "   $$\n",
        "   \\mathbb{P}(N(t + \\Delta t) - N(t) = 1) = \\lambda \\Delta t + o(\\Delta t)\n",
        "   $$\n",
        "\n",
        "3. **Movimientos Brownianos:**\n",
        "   Aplicables en el análisis de dispersión de contaminantes en cuerpos de agua, modelando la trayectoria aleatoria de partículas en un medio fluido.\n",
        "   $$\n",
        "   X(t) = X(0) + \\mu t + \\sigma B_t,\n",
        "   $$\n",
        "   donde \\( B_t \\) representa el movimiento browniano estándar, \\( \\mu \\) es el coeficiente de deriva y \\( \\sigma \\) es el coeficiente de difusión.\n",
        "\n",
        "**Propiedades y Aplicaciones:**\n",
        "- **Propiedades de Markov y Martingala:**\n",
        "  Muchos procesos estocásticos relevantes para la hidráulica poseen la propiedad de Markov, lo que simplifica su análisis y simulación. Además, la propiedad de martingala de ciertos procesos puede ser explotada para desarrollar estimadores óptimos y técnicas de filtrado.\n",
        "\n",
        "- **Filtrado y Predicción:**\n",
        "  Herramientas como el filtro de Kalman y el filtro de partículas permiten la estimación en tiempo real de estados ocultos y la predicción de eventos futuros, esenciales en la gestión de sistemas hidráulicos bajo incertidumbre.\n",
        "  $$\n",
        "  \\hat{x}_{k+1|k} = F_k \\hat{x}_{k|k} + B_k u_k,\n",
        "  $$\n",
        "  $$\n",
        "  P_{k+1|k} = F_k P_{k|k} F_k^T + Q_k,\n",
        "  $$\n",
        "  donde \\( F_k \\), \\( B_k \\), y \\( Q_k \\) representan matrices de transición de estado, control, y ruido respectivamente, y \\( u_k \\) son las entradas de control.\n",
        "\n",
        "\n"
      ],
      "metadata": {
        "id": "I3pGTdEDV-ai"
      }
    },
    {
      "cell_type": "markdown",
      "source": [
        "## Modelado Matemático en Hidráulica"
      ],
      "metadata": {
        "id": "fizPd02wWw6l"
      }
    },
    {
      "cell_type": "markdown",
      "source": [
        "El modelado matemático en hidráulica utiliza ecuaciones diferenciales y sistemas de ecuaciones para describir el comportamiento físico de los fluidos en diversos entornos y condiciones. Una formulación fundamental en este contexto es el sistema de ecuaciones de Saint-Venant, que se utiliza para modelar el flujo no permanente en canales abiertos y se expresa como:\n",
        "\n",
        "$$\n",
        "\\frac{\\partial A}{\\partial t} + \\frac{\\partial (Au)}{\\partial x} = 0,\n",
        "$$\n",
        "$$\n",
        "\\frac{\\partial (Au)}{\\partial t} + \\frac{\\partial (Au^2 + \\frac{1}{2}gA^2/R)}{\\partial x} = -gASf,\n",
        "$$\n",
        "\n",
        "donde:\n",
        "- \\( A \\) es el área transversal del flujo.\n",
        "- \\( u \\) es la velocidad media del flujo.\n",
        "- \\( x \\) es la coordenada a lo largo del canal.\n",
        "- \\( t \\) es el tiempo.\n",
        "- \\( g \\) es la aceleración debido a la gravedad.\n",
        "- \\( R \\) es el radio hidráulico.\n",
        "- \\( Sf \\) es la pendiente de la línea de energía o pendiente friccional.\n",
        "\n",
        "Estas ecuaciones, conocidas como las ecuaciones de conservación de masa y momento, respectivamente, son esenciales para entender y predecir la dinámica del flujo en canales abiertos. Combinadas con condiciones de borde y condiciones iniciales adecuadas, permiten simular eventos como inundaciones, mareas y otros fenómenos relacionados con la gestión del agua.\n",
        "\n",
        "Para incorporar efectos estocásticos en el modelado hidráulico, se pueden adaptar estas ecuaciones introduciendo términos que representen las incertidumbres en las entradas, como las precipitaciones o el caudal entrante, utilizando métodos como el Monte Carlo o técnicas de filtrado de Kalman para estimar y actualizar los estados del sistema bajo incertidumbre.\n",
        "\n",
        "$$\n",
        "\\hat{x}_{k|k} = \\hat{x}_{k|k-1} + K_k(y_k - H_k\\hat{x}_{k|k-1}),\n",
        "$$\n",
        "$$\n",
        "P_{k|k} = (I - K_kH_k)P_{k|k-1},\n",
        "$$\n",
        "\n",
        "donde:\n",
        "- \\( \\hat{x}_{k|k} \\) es el estimado del estado actual basado en todas las observaciones hasta el momento.\n",
        "- \\( K_k \\) es la ganancia de Kalman, que minimiza el error cuadrático medio del estimado.\n",
        "- \\( y_k \\) son las observaciones actuales.\n",
        "- \\( H_k \\) es la matriz de diseño que relaciona el estado estimado con las observaciones.\n",
        "- \\( P \\) es la covarianza del error del estimado.\n",
        "\n",
        "Estas adaptaciones permiten un tratamiento más riguroso y matemáticamente robusto del análisis y diseño en ingeniería hidráulica, facilitando la creación de infraestructuras más seguras y eficientes en el manejo de los recursos hídricos.\n"
      ],
      "metadata": {
        "id": "YcJcG1b_W3fo"
      }
    },
    {
      "cell_type": "markdown",
      "source": [
        "# Planteamiento del Proyecto"
      ],
      "metadata": {
        "id": "4Smiw-Hlbun9"
      }
    },
    {
      "cell_type": "markdown",
      "source": [
        "\n",
        "\n",
        "## Problemática\n",
        "\n",
        "\n",
        "\n",
        "\n",
        "\n",
        "\n",
        "\n",
        "\n",
        "\n"
      ],
      "metadata": {
        "id": "CZ7s-ipvbxwT"
      }
    },
    {
      "cell_type": "markdown",
      "source": [
        "El manejo efectivo de los recursos hídricos es crucial para la sostenibilidad ambiental, agrícola y urbana. Las fluctuaciones en las precipitaciones y el consumo humano influyen significativamente en los niveles de agua de las presas, lo cual afecta la disponibilidad de agua para múltiples usos. La capacidad de predecir los niveles de agua en las presas, basada en datos históricos de precipitaciones y consumo diario, es esencial para la planificación adecuada del uso del agua y para mitigar los riesgos asociados con las inundaciones y la escasez de agua."
      ],
      "metadata": {
        "id": "UT1rYWSOdTfh"
      }
    },
    {
      "cell_type": "markdown",
      "source": [
        "\n",
        "## Objetivo\n"
      ],
      "metadata": {
        "id": "KKFLGcH-dB4T"
      }
    },
    {
      "cell_type": "markdown",
      "source": [
        "\n",
        "Desarrollar un modelo estocástico que integre datos históricos de precipitaciones y consumo de agua para predecir los niveles futuros de agua en las presas de Estambul. Este modelo ayudará a los gestores de recursos hídricos a tomar decisiones informadas respecto a la distribución del agua y las medidas preventivas necesarias."
      ],
      "metadata": {
        "id": "fANq6AANdFcR"
      }
    },
    {
      "cell_type": "markdown",
      "source": [
        "## Modelo Propuesto\n",
        "\n"
      ],
      "metadata": {
        "id": "-QZHWcIFc0PZ"
      }
    },
    {
      "cell_type": "markdown",
      "source": [
        "El modelo estocástico propuesto es un **Modelo Autoregresivo Integrado de Media Móvil con Entradas Exógenas (ARIMAX)**, que permite incorporar tanto la dependencia temporal en los datos como los efectos de variables exógenas como las precipitaciones y el consumo de agua."
      ],
      "metadata": {
        "id": "oxeIlNrWc3iX"
      }
    },
    {
      "cell_type": "markdown",
      "source": [
        "## Formulación Matemática del Modelo\n",
        "\n"
      ],
      "metadata": {
        "id": "kRiXkv-ncrOy"
      }
    },
    {
      "cell_type": "markdown",
      "source": [
        "El modelo ARIMAX puede ser descrito por la siguiente ecuación estocástica:\n",
        "\n",
        "$$\n",
        "Q_t = \\alpha + \\phi_1 Q_{t-1} + \\cdots + \\phi_p Q_{t-p} + \\theta_1 \\epsilon_{t-1} + \\cdots + \\theta_q \\epsilon_{t-q} + \\beta_1 X_{t-1} + \\cdots + \\beta_k X_{t-k} + \\epsilon_t\n",
        "$$\n",
        "\n",
        "donde:\n",
        "- \\(Q_t\\) es el caudal o nivel del agua en el tiempo \\(t\\).\n",
        "- \\(\\alpha\\) es el intercepto del modelo.\n",
        "- \\(\\phi_1, \\ldots, \\phi_p\\) son los parámetros del componente autoregresivo.\n",
        "- \\(\\theta_1, \\ldots, \\theta_q\\) son los parámetros del componente de media móvil.\n",
        "- \\(\\beta_1, \\ldots, \\beta_k\\) son los coeficientes de las variables exógenas \\(X_t\\) (precipitaciones y consumo de agua).\n",
        "- \\(\\epsilon_t\\) es el término de error, modelado como un proceso de ruido blanco."
      ],
      "metadata": {
        "id": "HjElWfVJcu6w"
      }
    },
    {
      "cell_type": "markdown",
      "source": [
        "## Pasos a Seguir\n",
        "\n"
      ],
      "metadata": {
        "id": "3CP3b_pCcbpX"
      }
    },
    {
      "cell_type": "markdown",
      "source": [
        "1. **Recolección de Datos:** Compilación de datos históricos de precipitaciones, consumo de agua y niveles de las presas.\n",
        "2. **Preprocesamiento de Datos:** Limpieza, transformación y exploración de los datos para asegurar su calidad y prepararlos para el análisis.\n",
        "3. **Desarrollo del Modelo:** Implementación del modelo ARIMAX utilizando software estadístico y de análisis de datos.\n",
        "4. **Validación del Modelo:** Evaluación de la precisión del modelo mediante técnicas de validación cruzada y ajuste de parámetros.\n",
        "5. **Implementación y Monitoreo:** Utilización del modelo para realizar predicciones continuas y ajustes basados en nuevos datos y retroalimentación de las predicciones."
      ],
      "metadata": {
        "id": "IUO-Le5zdZB6"
      }
    },
    {
      "cell_type": "markdown",
      "source": [
        "# Resolviendo el Proyecto"
      ],
      "metadata": {
        "id": "2IWEuPPXeUvz"
      }
    },
    {
      "cell_type": "code",
      "source": [
        "import pandas as pd\n",
        "\n",
        "capacity = pd.read_csv('istanbul_dams_capacity.csv')\n",
        "precip_consumption = pd.read_csv('istanbul_dams_precipitation_and_daily_consumption.csv')\n",
        "occupancy_rates = pd.read_csv('istanbul-dams-daily-occupancy-rates.csv')\n",
        "\n",
        "print(\"Capacity columns:\", capacity.columns)\n",
        "print(\"Precipitation and Consumption columns:\", precip_consumption.columns)\n",
        "print(\"Occupancy Rates columns:\", occupancy_rates.columns)\n"
      ],
      "metadata": {
        "colab": {
          "base_uri": "https://localhost:8080/"
        },
        "id": "IAdLBJU0gT3D",
        "outputId": "10e00334-6fa0-4152-b673-67583752b3f3"
      },
      "execution_count": null,
      "outputs": [
        {
          "output_type": "stream",
          "name": "stdout",
          "text": [
            "Capacity columns: Index(['Dam Name', 'Dam Capacity'], dtype='object')\n",
            "Precipitation and Consumption columns: Index(['Date', 'Omerli', 'Darlik', 'Elmali', 'Terkos', 'Buyuk cekmece',\n",
            "       'Sazlidere', 'Alibey', 'Kazandere', 'Pabucdere', 'Istirancalar',\n",
            "       'Daily Consumption'],\n",
            "      dtype='object')\n",
            "Occupancy Rates columns: Index(['Date', 'Omerli', 'Darlik', 'Elmali', 'Terkos', 'Alibey',\n",
            "       'Buyuk cekmece', 'Sazlıdere', 'Kazandere', 'Papuc dere',\n",
            "       'Istirancalar'],\n",
            "      dtype='object')\n"
          ]
        }
      ]
    },
    {
      "cell_type": "code",
      "source": [
        "import pandas as pd\n",
        "from statsmodels.tsa.statespace.sarimax import SARIMAX\n",
        "import matplotlib.pyplot as plt\n",
        "\n",
        "capacity = pd.read_csv('istanbul_dams_capacity.csv')\n",
        "precip_consumption = pd.read_csv('istanbul_dams_precipitation_and_daily_consumption.csv')\n",
        "occupancy_rates = pd.read_csv('istanbul-dams-daily-occupancy-rates.csv')\n",
        "\n",
        "precip_consumption['Date'] = pd.to_datetime(precip_consumption['Date'], dayfirst=True)\n",
        "precip_consumption.set_index('Date', inplace=True)\n",
        "occupancy_rates['Date'] = pd.to_datetime(occupancy_rates['Date'], dayfirst=True)\n",
        "occupancy_rates.set_index('Date', inplace=True)\n",
        "\n",
        "precip_consumption.fillna(method='bfill', inplace=True)\n",
        "occupancy_rates.fillna(method='ffill', inplace=True)\n",
        "\n",
        "def convert_percentage_to_float(series):\n",
        "    return series.str.replace('%', '').astype(float) / 100\n",
        "\n",
        "for col in ['Omerli', 'Darlik', 'Elmali', 'Terkos', 'Alibey', 'Buyuk cekmece', 'Sazlıdere', 'Kazandere', 'Papuc dere', 'Istirancalar']:\n",
        "    occupancy_rates[col] = convert_percentage_to_float(occupancy_rates[col])\n",
        "\n",
        "occupancy_rates['Total_Occupancy'] = occupancy_rates[['Omerli', 'Darlik', 'Elmali', 'Terkos', 'Alibey',\n",
        "                                                      'Buyuk cekmece', 'Sazlıdere', 'Kazandere', 'Papuc dere',\n",
        "                                                      'Istirancalar']].sum(axis=1)\n",
        "\n",
        "precip_consumption['Total_Precipitation'] = precip_consumption[['Omerli', 'Darlik', 'Elmali', 'Terkos', 'Buyuk cekmece',\n",
        "                                                                'Sazlidere', 'Alibey', 'Kazandere', 'Pabucdere', 'Istirancalar']].sum(axis=1).astype(float)\n",
        "\n",
        "precip_consumption['Daily Consumption'] = precip_consumption['Daily Consumption'].astype(float)\n",
        "\n",
        "# Detectar y manejar valores atípicos (opcional, aquí usando método simple de recorte)\n",
        "def remove_outliers(series):\n",
        "    q1 = series.quantile(0.25)\n",
        "    q3 = series.quantile(0.75)\n",
        "    iqr = q3 - q1\n",
        "    lower_bound = q1 - 1.5 * iqr\n",
        "    upper_bound = q3 + 1.5 * iqr\n",
        "    return series.clip(lower=lower_bound, upper=upper_bound)\n",
        "\n",
        "occupancy_rates['Total_Occupancy'] = remove_outliers(occupancy_rates['Total_Occupancy'])\n",
        "precip_consumption['Total_Precipitation'] = remove_outliers(precip_consumption['Total_Precipitation'])\n",
        "precip_consumption['Daily Consumption'] = remove_outliers(precip_consumption['Daily Consumption'])\n",
        "\n",
        "aligned_df = occupancy_rates.join(precip_consumption[['Total_Precipitation', 'Daily Consumption']], how='inner')\n",
        "\n",
        "model = SARIMAX(aligned_df['Total_Occupancy'],\n",
        "                exog=aligned_df[['Total_Precipitation', 'Daily Consumption']],\n",
        "                order=(1, 0, 1),\n",
        "                seasonal_order=(1, 0, 1, 12))\n",
        "\n",
        "results = model.fit()\n",
        "print(results.summary())\n",
        "\n",
        "preds = results.get_prediction(start=pd.to_datetime('2023-01-01'), dynamic=False)\n",
        "pred_ci = preds.conf_int()\n",
        "\n",
        "ax = aligned_df['Total_Occupancy']['2023':].plot(label='observado')\n",
        "preds.predicted_mean.plot(ax=ax, label='Predicción', alpha=.7, figsize=(14, 4))\n",
        "ax.fill_between(pred_ci.index,\n",
        "                pred_ci.iloc[:, 0],\n",
        "                pred_ci.iloc[:, 1], color='k', alpha=.2)\n",
        "ax.set_xlabel('Fecha')\n",
        "ax.set_ylabel('Tasa de Ocupación Total')\n",
        "plt.legend()\n",
        "plt.show()\n"
      ],
      "metadata": {
        "colab": {
          "base_uri": "https://localhost:8080/",
          "height": 898
        },
        "id": "TzuBYh6MhzO9",
        "outputId": "b18b7831-d790-4781-b33a-b812ac75e4d7"
      },
      "execution_count": null,
      "outputs": [
        {
          "output_type": "stream",
          "name": "stderr",
          "text": [
            "/usr/local/lib/python3.10/dist-packages/statsmodels/tsa/base/tsa_model.py:473: ValueWarning: No frequency information was provided, so inferred frequency D will be used.\n",
            "  self._init_dates(dates, freq)\n",
            "/usr/local/lib/python3.10/dist-packages/statsmodels/tsa/base/tsa_model.py:473: ValueWarning: No frequency information was provided, so inferred frequency D will be used.\n",
            "  self._init_dates(dates, freq)\n",
            "/usr/local/lib/python3.10/dist-packages/statsmodels/base/model.py:607: ConvergenceWarning: Maximum Likelihood optimization failed to converge. Check mle_retvals\n",
            "  warnings.warn(\"Maximum Likelihood optimization failed to \"\n"
          ]
        },
        {
          "output_type": "stream",
          "name": "stdout",
          "text": [
            "                                     SARIMAX Results                                      \n",
            "==========================================================================================\n",
            "Dep. Variable:                    Total_Occupancy   No. Observations:                 4797\n",
            "Model:             SARIMAX(1, 0, 1)x(1, 0, 1, 12)   Log Likelihood               -1819.033\n",
            "Date:                            Sat, 08 Jun 2024   AIC                           3652.066\n",
            "Time:                                    06:27:28   BIC                           3697.396\n",
            "Sample:                                01-01-2011   HQIC                          3667.987\n",
            "                                     - 02-18-2024                                         \n",
            "Covariance Type:                              opg                                         \n",
            "=======================================================================================\n",
            "                          coef    std err          z      P>|z|      [0.025      0.975]\n",
            "---------------------------------------------------------------------------------------\n",
            "Total_Precipitation     0.0035      0.000     21.785      0.000       0.003       0.004\n",
            "Daily Consumption   -1.455e-07   6.78e-08     -2.146      0.032   -2.78e-07   -1.26e-08\n",
            "ar.L1                   0.9943      0.005    186.582      0.000       0.984       1.005\n",
            "ma.L1                  -0.0356      0.009     -4.032      0.000      -0.053      -0.018\n",
            "ar.S.L12                0.9349      0.013     69.648      0.000       0.909       0.961\n",
            "ma.S.L12               -0.0397      0.012     -3.446      0.001      -0.062      -0.017\n",
            "sigma2                  0.0952      0.000    768.926      0.000       0.095       0.095\n",
            "===================================================================================\n",
            "Ljung-Box (L1) (Q):                  16.26   Jarque-Bera (JB):         143971831.68\n",
            "Prob(Q):                              0.00   Prob(JB):                         0.00\n",
            "Heteroskedasticity (H):              17.58   Skew:                            -0.38\n",
            "Prob(H) (two-sided):                  0.00   Kurtosis:                       851.71\n",
            "===================================================================================\n",
            "\n",
            "Warnings:\n",
            "[1] Covariance matrix calculated using the outer product of gradients (complex-step).\n"
          ]
        },
        {
          "output_type": "display_data",
          "data": {
            "text/plain": [
              "<Figure size 1400x400 with 1 Axes>"
            ],
            "image/png": "[encoded data removed]"
          },
          "metadata": {}
        }
      ]
    },
    {
      "cell_type": "markdown",
      "source": [
        "# Conclusion"
      ],
      "metadata": {
        "id": "CQ_1wYRxi1-Y"
      }
    },
    {
      "cell_type": "markdown",
      "source": [
        "## Comentarios sobre el proyecto\n",
        "\n",
        "\n",
        "\n"
      ],
      "metadata": {
        "id": "3BELRAt-i5nt"
      }
    },
    {
      "cell_type": "markdown",
      "source": [
        "\n",
        "El proyecto desarrollado demuestra la implementación de un modelo estocástico ARIMAX para predecir la tasa de ocupación de las presas en Estambul, utilizando datos históricos de precipitaciones y consumo diario de agua. Los datos utilizados en este análisis fueron obtenidos de Kaggle, una plataforma conocida por ofrecer una amplia variedad de datasets para análisis de datos y competencias de ciencia de datos."
      ],
      "metadata": {
        "id": "8Ya2OAq1jWis"
      }
    },
    {
      "cell_type": "markdown",
      "source": [
        "\n",
        "## Descripción del Dataset\n"
      ],
      "metadata": {
        "id": "vJgxJyyljRkG"
      }
    },
    {
      "cell_type": "markdown",
      "source": [
        "Los datos fueron obtenidos del siguiente [dataset en Kaggle](https://www.kaggle.com/) y constan de tres archivos principales:\n",
        "\n",
        "1. **`istanbul_dams_capacity.csv`**: Este archivo contiene información sobre la capacidad de varias presas en Estambul. Las columnas incluyen el nombre de la presa y su capacidad total.\n",
        "2. **`istanbul_dams_precipitation_and_daily_consumption.csv`**: Este archivo registra las precipitaciones diarias en varias presas y el consumo diario de agua. Las columnas incluyen la fecha, precipitaciones en distintas presas y el consumo diario.\n",
        "3. **`istanbul-dams-daily-occupancy-rates.csv`**: Este archivo contiene las tasas de ocupación diaria de varias presas. Las columnas incluyen la fecha y las tasas de ocupación para cada presa, representadas como porcentajes.\n",
        "\n"
      ],
      "metadata": {
        "id": "7-fq1QZdjk25"
      }
    },
    {
      "cell_type": "markdown",
      "source": [
        "## Proceso de Implementación\n",
        "\n"
      ],
      "metadata": {
        "id": "RNk-kwjjjtPT"
      }
    },
    {
      "cell_type": "markdown",
      "source": [
        "El proceso de implementación del modelo siguió estos pasos:\n",
        "\n",
        "1. **Recolección y Preprocesamiento de Datos**: Los datos fueron cargados y preprocesados para asegurar la correcta interpretación de las fechas y la limpieza de valores faltantes. Las tasas de ocupación fueron convertidas de porcentajes a valores flotantes y se calcularon las tasas de ocupación total y la precipitación total diaria.\n",
        "\n",
        "2. **Modelado Estocástico**: Se implementó un modelo SARIMAX, utilizando las tasas de ocupación total como variable dependiente y las precipitaciones totales junto con el consumo diario como variables exógenas. El modelo fue ajustado para capturar la estacionalidad y autocorrelación presentes en los datos.\n",
        "\n",
        "3. **Predicción y Visualización**: Se realizaron predicciones utilizando el modelo ajustado y se visualizaron las predicciones junto con los intervalos de confianza. Se observó que el modelo capturaba adecuadamente las tendencias generales de las tasas de ocupación, aunque algunos picos y caídas extremas indicaron la necesidad de manejar mejor los valores atípicos.\n",
        "\n"
      ],
      "metadata": {
        "id": "m5jUP084j6M-"
      }
    },
    {
      "cell_type": "markdown",
      "source": [
        "## Resultados y Reflexiones\n",
        "\n"
      ],
      "metadata": {
        "id": "Z7AIDQdnkC4Y"
      }
    },
    {
      "cell_type": "markdown",
      "source": [
        "Los resultados mostraron que el modelo ARIMAX es capaz de predecir las tasas de ocupación con una buena precisión en general. Sin embargo, las predicciones fueron influenciadas por valores atípicos presentes en los datos, lo que sugiere que un preprocesamiento más robusto podría mejorar aún más el rendimiento del modelo. La implementación de técnicas adicionales para la detección y manejo de valores atípicos, así como la exploración de modelos alternativos, podrían proporcionar predicciones más precisas y confiables.\n",
        "\n"
      ],
      "metadata": {
        "id": "dm3wxr8UkHMf"
      }
    },
    {
      "cell_type": "markdown",
      "source": [
        "## Conclusión Final\n",
        "\n"
      ],
      "metadata": {
        "id": "KvYnksimkKVA"
      }
    },
    {
      "cell_type": "markdown",
      "source": [
        "\n",
        "\n",
        "En conclusión, este proyecto ilustra cómo los modelos estocásticos pueden ser aplicados para predecir fenómenos complejos como las tasas de ocupación de presas, integrando múltiples fuentes de datos y considerando la estacionalidad y autocorrelación. La calidad de los datos es un factor crucial que afecta significativamente el rendimiento del modelo. La detección y manejo adecuado de valores atípicos, así como el preprocesamiento cuidadoso de los datos, son esenciales para mejorar la precisión y la confiabilidad de las predicciones.\n",
        "\n",
        "Los procesos estocásticos, como el modelo ARIMAX utilizado en este proyecto, ofrecen un enfoque robusto para modelar series temporales con dependencias complejas y patrones estacionales. Estos modelos no solo ayudan a entender mejor los sistemas hidrológicos, sino que también proporcionan herramientas valiosas para la gestión y planificación de recursos hídricos. El alcance de estos modelos en hidráulica es amplio, permitiendo a los gestores de recursos anticipar cambios en las tasas de ocupación de las presas, optimizar el uso del agua y tomar decisiones informadas para mitigar riesgos asociados con inundaciones y sequías. Este enfoque puede ser extendido y mejorado para aplicaciones similares en otros contextos geográficos y temporales.\n"
      ],
      "metadata": {
        "id": "wymoTPeskNK-"
      }
    },
    {
      "cell_type": "markdown",
      "source": [
        "# Bibliografia"
      ],
      "metadata": {
        "id": "eRwjKOOBlnvc"
      }
    },
    {
      "cell_type": "markdown",
      "source": [
        "\n",
        "\n",
        "1. Brockwell, P. J., & Davis, R. A. (2002). *Introduction to Time Series and Forecasting*. Springer.\n",
        "2. Chatfield, C. (2003). *The Analysis of Time Series: An Introduction*. Chapman and Hall/CRC.\n",
        "3. Hamilton, J. D. (1994). *Time Series Analysis*. Princeton University Press.\n",
        "4. Box, G. E. P., Jenkins, G. M., & Reinsel, G. C. (2015). *Time Series Analysis: Forecasting and Control*. Wiley.\n",
        "5. Hyndman, R. J., & Athanasopoulos, G. (2018). *Forecasting: principles and practice*. OTexts.\n",
        "6. Shumway, R. H., & Stoffer, D. S. (2017). *Time Series Analysis and Its Applications: With R Examples*. Springer.\n",
        "7. Kaggle Dataset: *Istanbul Dam Occupancy Rates*. Retrieved from [Kaggle](https://www.kaggle.com/).\n",
        "8. National Centers for Environmental Information (NCEI). *Climate Data Online*. Retrieved from [NOAA](https://www.ncdc.noaa.gov/cdo-web/).\n"
      ],
      "metadata": {
        "id": "G0i0B6bYltTG"
      }
    }
  ]
}